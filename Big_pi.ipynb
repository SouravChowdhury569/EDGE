{
  "nbformat": 4,
  "nbformat_minor": 0,
  "metadata": {
    "colab": {
      "provenance": [],
      "authorship_tag": "ABX9TyPKMaXcM2jJN+1bBWJymb5D",
      "include_colab_link": true
    },
    "kernelspec": {
      "name": "python3",
      "display_name": "Python 3"
    },
    "language_info": {
      "name": "python"
    }
  },
  "cells": [
    {
      "cell_type": "markdown",
      "metadata": {
        "id": "view-in-github",
        "colab_type": "text"
      },
      "source": [
        "<a href=\"https://colab.research.google.com/github/SouravChowdhury569/EDGE/blob/main/Big_pi.ipynb\" target=\"_parent\"><img src=\"https://colab.research.google.com/assets/colab-badge.svg\" alt=\"Open In Colab\"/></a>"
      ]
    },
    {
      "cell_type": "code",
      "execution_count": 4,
      "metadata": {
        "id": "CtO1pN5LVxdm"
      },
      "outputs": [],
      "source": [
        "from mpmath import mp\n",
        "def print_pi_to_n_digits(n):\n",
        "\n",
        "    # Set precision to n decimal places\n",
        "\n",
        "    mp.dps = n + 1  # Adding 1 to account for the \"3.\" before the decimals\n",
        "\n",
        "    # Return pi to n decimal places as a string\n",
        "    return str(mp.pi)\n",
        "\n"
      ]
    }
  ]
}