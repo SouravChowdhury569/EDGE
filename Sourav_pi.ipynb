{
  "nbformat": 4,
  "nbformat_minor": 0,
  "metadata": {
    "colab": {
      "provenance": [],
      "authorship_tag": "ABX9TyMt44MPunI9m8RK9gr/6LVe",
      "include_colab_link": true
    },
    "kernelspec": {
      "name": "python3",
      "display_name": "Python 3"
    },
    "language_info": {
      "name": "python"
    }
  },
  "cells": [
    {
      "cell_type": "markdown",
      "metadata": {
        "id": "view-in-github",
        "colab_type": "text"
      },
      "source": [
        "<a href=\"https://colab.research.google.com/github/SouravChowdhury569/EDGE/blob/main/Sourav_pi.ipynb\" target=\"_parent\"><img src=\"https://colab.research.google.com/assets/colab-badge.svg\" alt=\"Open In Colab\"/></a>"
      ]
    },
    {
      "cell_type": "code",
      "execution_count": 1,
      "metadata": {
        "id": "80I6XBGyVtQJ"
      },
      "outputs": [],
      "source": [
        "import sys"
      ]
    },
    {
      "cell_type": "code",
      "source": [
        "!wget https://raw.githubusercontent.com/SouravChowdhury569/EDGE/refs/heads/main/MathTest.py\n",
        "sys.path.append('/content')"
      ],
      "metadata": {
        "colab": {
          "base_uri": "https://localhost:8080/"
        },
        "id": "XL11qmj7V3rx",
        "outputId": "cb25fed8-111a-4598-90bd-ba54f5b9a447"
      },
      "execution_count": 2,
      "outputs": [
        {
          "output_type": "stream",
          "name": "stdout",
          "text": [
            "--2024-11-09 10:09:20--  https://raw.githubusercontent.com/SouravChowdhury569/EDGE/refs/heads/main/MathTest.py\n",
            "Resolving raw.githubusercontent.com (raw.githubusercontent.com)... 185.199.108.133, 185.199.109.133, 185.199.110.133, ...\n",
            "Connecting to raw.githubusercontent.com (raw.githubusercontent.com)|185.199.108.133|:443... connected.\n",
            "HTTP request sent, awaiting response... 200 OK\n",
            "Length: 248 [text/plain]\n",
            "Saving to: ‘MathTest.py’\n",
            "\n",
            "\rMathTest.py           0%[                    ]       0  --.-KB/s               \rMathTest.py         100%[===================>]     248  --.-KB/s    in 0s      \n",
            "\n",
            "2024-11-09 10:09:20 (4.61 MB/s) - ‘MathTest.py’ saved [248/248]\n",
            "\n"
          ]
        }
      ]
    },
    {
      "cell_type": "code",
      "source": [
        "from MathTest import print_pi_to_n_digits\n",
        "numberOfDigits = int(input(\"Enter the first number a: \"))  ## this code will in the Colab\n",
        "print(print_pi_to_n_digits(numberOfDigits))"
      ],
      "metadata": {
        "colab": {
          "base_uri": "https://localhost:8080/"
        },
        "id": "fMmXPAYpZqAF",
        "outputId": "028d9c8b-59de-4af5-ec5f-8d2d362c2ce4"
      },
      "execution_count": 5,
      "outputs": [
        {
          "output_type": "stream",
          "name": "stdout",
          "text": [
            "Enter the first number a: 20\n",
            "3.14159265358979323846\n"
          ]
        }
      ]
    }
  ]
}