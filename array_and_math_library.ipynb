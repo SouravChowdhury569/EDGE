{
  "nbformat": 4,
  "nbformat_minor": 0,
  "metadata": {
    "colab": {
      "provenance": [],
      "authorship_tag": "ABX9TyMqYDtnRmRPDuoZlWfq0jt7",
      "include_colab_link": true
    },
    "kernelspec": {
      "name": "python3",
      "display_name": "Python 3"
    },
    "language_info": {
      "name": "python"
    }
  },
  "cells": [
    {
      "cell_type": "markdown",
      "metadata": {
        "id": "view-in-github",
        "colab_type": "text"
      },
      "source": [
        "<a href=\"https://colab.research.google.com/github/SouravChowdhury569/EDGE/blob/main/array_and_math_library.ipynb\" target=\"_parent\"><img src=\"https://colab.research.google.com/assets/colab-badge.svg\" alt=\"Open In Colab\"/></a>"
      ]
    },
    {
      "cell_type": "code",
      "execution_count": 3,
      "metadata": {
        "colab": {
          "base_uri": "https://localhost:8080/"
        },
        "id": "PLDwBZM-b7Px",
        "outputId": "f1d774db-761e-438d-d9c3-259da85d20de"
      },
      "outputs": [
        {
          "output_type": "stream",
          "name": "stdout",
          "text": [
            "12, 5, 11, \n",
            "\n",
            "10, 14, 18, \n",
            "\n",
            "10, 8, 9, 15, \n",
            "\n",
            "15, 12, 8, 6, \n",
            "\n"
          ]
        }
      ],
      "source": [
        "import numpy as np\n",
        "T= np.array([[12,5,11],[10,14,18],[10,8,9,15],[15,12,8,6]], dtype=object)\n",
        "\n",
        "for row in range(len(T)):\n",
        "  for col in range(len(T[row])):\n",
        "    print(T[row][col], end=\", \")\n",
        "  print('\\n')"
      ]
    },
    {
      "cell_type": "code",
      "source": [
        "from math import factorial\n",
        "\n",
        "def e_x(x,terms=10):\n",
        "  sum = 0\n",
        "  for i in range (terms):\n",
        "    sum +=(x ** i) / factorial(i)\n",
        "\n",
        "  return sum\n",
        "\n",
        "x = int(input(\"Enter x: \"))\n",
        "n = int(input(\"Enter n: \"))\n",
        "print(\"e^\",x,\"(for\", n, \"terms\",\") = \", e_x(x,n))"
      ],
      "metadata": {
        "colab": {
          "base_uri": "https://localhost:8080/"
        },
        "id": "LgOnLvCVvK0x",
        "outputId": "8d7ed609-384f-4018-b3ce-0024a5e94238"
      },
      "execution_count": 7,
      "outputs": [
        {
          "output_type": "stream",
          "name": "stdout",
          "text": [
            "Enter x: 7\n",
            "Enter n: 6\n",
            "e^ 7 (for 6 terms ) =  329.76666666666665\n"
          ]
        }
      ]
    }
  ]
}